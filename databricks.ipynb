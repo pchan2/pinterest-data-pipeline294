{
 "cells": [
  {
   "cell_type": "markdown",
   "metadata": {},
   "source": [
    "# Reproduction of mounting S3 bucket to Databricks\n",
    "\n",
    "- Mount creates a link between a workspace and cloud object storage, which enables you to interact \n",
    "with cloud object storage using familiar file paths relative to the Databricks file system.\n",
    "- To open a new notebook: `New > Notebook`\n",
    "- Ref: [Databricks notebook](https://dbc-b54c5c54-233d.cloud.databricks.com/?o=1865928197306450#notebook/627262318697111/command/627262318697120)"
   ]
  },
  {
   "cell_type": "code",
   "execution_count": null,
   "metadata": {},
   "outputs": [],
   "source": [
    "# You should see the CSV files you uploaded earlier is now inside the\n",
    "# FileStore tables folder.\n",
    "dbutils.fs.ls('/FileStore/tables')"
   ]
  },
  {
   "cell_type": "code",
   "execution_count": null,
   "metadata": {},
   "outputs": [],
   "source": [
    "# pyspark functions\n",
    "from pyspark.sql.functions import *\n",
    "# URL processing\n",
    "import urllib"
   ]
  },
  {
   "cell_type": "code",
   "execution_count": null,
   "metadata": {},
   "outputs": [],
   "source": [
    "# Specify file type to be csv\n",
    "file_type = \"csv\"\n",
    "# Indicates file has first row as the header\n",
    "first_row_is_header = \"true\"\n",
    "# Indicates file has comma as the delimeter\n",
    "delimiter = \",\"\n",
    "# Read the CSV file to spark dataframe\n",
    "aws_keys_df = spark.read.format(file_type)\\\n",
    ".option(\"header\", first_row_is_header)\\\n",
    ".option(\"sep\", delimiter)\\\n",
    ".load(\"/FileStore/tables/authentication_credentials.csv\")\n",
    "\n",
    "aws_keys_df"
   ]
  },
  {
   "cell_type": "code",
   "execution_count": null,
   "metadata": {},
   "outputs": [],
   "source": [
    "# Get the AWS access key and secret key from the spark dataframe\n",
    "ACCESS_KEY = aws_keys_df.where(col('User name')=='databricks-user') \\\n",
    "                        .select('Access key ID') \\\n",
    "                        .collect()[0]['Access key ID']\n",
    "SECRET_KEY = aws_keys_df.where(col('User name')=='databricks-user') \\\n",
    "                        .select('Secret access key') \\\n",
    "                        .collect()[0]['Secret access key']\n",
    "\n",
    "# Encode the secrete key\n",
    "ENCODED_SECRET_KEY = urllib.parse.quote(string=SECRET_KEY, safe=\"\")"
   ]
  },
  {
   "cell_type": "code",
   "execution_count": null,
   "metadata": {},
   "outputs": [],
   "source": [
    "from database_utils import CredentialsReader\n",
    "\n",
    "db_creds = CredentialsReader.read_db_creds('credentials')"
   ]
  },
  {
   "cell_type": "code",
   "execution_count": null,
   "metadata": {},
   "outputs": [],
   "source": [
    "# Mount creates a link between a workspace and cloud object storage,\n",
    "# which enables you to interact with cloud object storage using familiar\n",
    "# file paths relative to the Databricks file system.\n",
    "\n",
    "IAM_USER_NAME = db_creds['IAM_USER_NAME']\n",
    "\n",
    "# AWS S3 bucket name\n",
    "AWS_S3_BUCKET = f'user-{IAM_USER_NAME}-bucket'\n",
    "# Mount name for the bucket\n",
    "MOUNT_NAME = f'/mnt/{IAM_USER_NAME}-mount'\n",
    "# Source url\n",
    "SOURCE_URL = \"s3n://{0}:{1}@{2}\" \\\n",
    "                .format(ACCESS_KEY, ENCODED_SECRET_KEY, AWS_S3_BUCKET)\n",
    "\n",
    "# Mount the drive only once\n",
    "dbutils.fs.mount(SOURCE_URL, MOUNT_NAME)\n",
    "\n",
    "# To unmount, run: dbutils.fs.unmount(MOUNT_NAME)"
   ]
  },
  {
   "cell_type": "code",
   "execution_count": null,
   "metadata": {},
   "outputs": [],
   "source": [
    "# Check if the S3 bucket was mounted succesfully\n",
    "display(dbutils.fs.ls(f'{MOUNT_NAME}/../..'))\n",
    "display(dbutils.fs.ls(f'{MOUNT_NAME}/..'))\n",
    "display(dbutils.fs.ls(f'{MOUNT_NAME}/'))"
   ]
  },
  {
   "cell_type": "code",
   "execution_count": null,
   "metadata": {},
   "outputs": [],
   "source": [
    "# Read the JSON format dataset from S3 into Databricks\n",
    "# S3 Filepath to pin topic:\n",
    "# s3://user-<IAM_USER_NAME>-bucket/topics/<IAM_USER_NAME>.pin/partition=0/\n",
    "\n",
    "# File location and type\n",
    "# Asterisk(*) indicates reading all the content of the specified file that have .json extension\n",
    "file_location = f'{MOUNT_NAME}/topics/{IAM_USER_NAME}.pin/partition=0/*.json'\n",
    "file_type = \"json\"\n",
    "# Ask Spark to infer the schema\n",
    "infer_schema = \"true\"\n",
    "# Read in JSONs from mounted S3 bucket\n",
    "df_pin = spark.read.format(file_type) \\\n",
    ".option(\"inferSchema\", infer_schema) \\\n",
    ".load(file_location)\n",
    "# Display Spark dataframe to check its content\n",
    "display(df_pin)"
   ]
  },
  {
   "cell_type": "code",
   "execution_count": null,
   "metadata": {},
   "outputs": [],
   "source": [
    "# S3 Filepath to geo topic:\n",
    "# s3://user-<IAM_USER_NAME>-bucket/topics/<IAM_USER_NAME>.geo/partition=0/\n",
    "file_location = f'{MOUNT_NAME}/topics/{IAM_USER_NAME}.geo/partition=0/*.json'\n",
    "file_type = \"json\"\n",
    "infer_schema = \"true\"\n",
    "\n",
    "df_geo = spark.read.format(file_type) \\\n",
    ".option(\"inferSchema\", infer_schema) \\\n",
    ".load(file_location)\n",
    "\n",
    "display(df_geo)"
   ]
  },
  {
   "cell_type": "code",
   "execution_count": null,
   "metadata": {},
   "outputs": [],
   "source": [
    "# S3 Filepath to user topic:\n",
    "# s3://user-<IAM_USER_NAME>-bucket/topics/<IAM_USER_NAME>.user/partition=0/\n",
    "file_location = f'{MOUNT_NAME}/topics/{IAM_USER_NAME}.user/partition=0/*.json'\n",
    "file_type = \"json\"\n",
    "infer_schema = \"true\"\n",
    "\n",
    "df_user = spark.read.format(file_type) \\\n",
    ".option(\"inferSchema\", infer_schema) \\\n",
    ".load(file_location)\n",
    "\n",
    "display(df_user)"
   ]
  }
 ],
 "metadata": {
  "language_info": {
   "name": "python"
  }
 },
 "nbformat": 4,
 "nbformat_minor": 2
}
